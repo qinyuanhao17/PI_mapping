{
 "cells": [
  {
   "cell_type": "code",
   "execution_count": null,
   "metadata": {},
   "outputs": [
    {
     "ename": "",
     "evalue": "",
     "output_type": "error",
     "traceback": [
      "\u001b[1;31mRunning cells with 'c:\\Users\\quantunlab2023\\.conda\\envs\\cage_system\\python.exe' requires the ipykernel package.\n",
      "\u001b[1;31mRun the following command to install 'ipykernel' into the Python environment. \n",
      "\u001b[1;31mCommand: 'conda install -p c:\\Users\\quantunlab2023\\.conda\\envs\\cage_system ipykernel --update-deps --force-reinstall'"
     ]
    }
   ],
   "source": [
    "from pipython import GCSDevice\n",
    "pidevice = GCSDevice('C-884')"
   ]
  }
 ],
 "metadata": {
  "kernelspec": {
   "display_name": "Python 3",
   "language": "python",
   "name": "python3"
  },
  "language_info": {
   "name": "python",
   "version": "3.8.17"
  },
  "orig_nbformat": 4,
  "vscode": {
   "interpreter": {
    "hash": "d30817708cd6c475dc5368a27c842d23119fb4414b1030a7107a8297169be8f4"
   }
  }
 },
 "nbformat": 4,
 "nbformat_minor": 2
}
